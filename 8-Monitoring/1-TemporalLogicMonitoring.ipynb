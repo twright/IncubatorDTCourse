{
 "cells": [
  {
   "cell_type": "markdown",
   "metadata": {},
   "source": [
    "# Example Temporal Logic Monitoring in Python\n",
    "\n",
    "RTAMT is a Python library for monitoring Signal Temporal Logic (STL). It supports both offline and online monitoring of discrete-time and dense-time STL specifications. This tutorial provides a step-by-step guide to installing and using RTAMT.\n",
    "\n",
    "## Installation\n",
    "\n",
    "Install RTAMT as a Python package:"
   ]
  },
  {
   "cell_type": "code",
   "execution_count": null,
   "metadata": {},
   "outputs": [],
   "source": [
    "%pip install rtamt"
   ]
  },
  {
   "cell_type": "markdown",
   "metadata": {},
   "source": [
    "## Usage"
   ]
  },
  {
   "cell_type": "markdown",
   "metadata": {},
   "source": [
    "### Dense-Time Offline Monitor\n",
    "To perform offline monitoring of dense-time STL specifications (example from https://link.springer.com/article/10.1007/s10009-023-00720-3):"
   ]
  },
  {
   "cell_type": "code",
   "execution_count": null,
   "metadata": {},
   "outputs": [],
   "source": [
    "import rtamt\n",
    "\n",
    "# Signals are lists of tuples (timestamp, value)\n",
    "req = [[0.0, 0.0], [3.0, 6.0], [5.0, 0.0]]\n",
    "gnt = [[0.0, 0.0], [7.0, 6.0], [9.0, 0.0]]\n",
    "\n",
    "spec = rtamt.StlDenseTimeSpecification()\n",
    "# Declare the variables that will correspond to the above signals.\n",
    "spec.declare_var('req', 'float')\n",
    "spec.declare_var('gnt', 'float')\n",
    "spec.spec = 'always((req >= 3) implies (eventually[0:5](gnt >= 3)))'\n",
    "spec.parse()\n",
    "\n",
    "# Evaluate the specification and match the variables with the signals.\n",
    "rob = spec.evaluate(['req', req], ['gnt', gnt])\n",
    "\n",
    "print('Robustness:', rob)"
   ]
  },
  {
   "cell_type": "markdown",
   "metadata": {},
   "source": [
    "Note that:\n",
    " 1. The output format is [[timestamp, robustness]]\n",
    " 2. RTAMT only computes the quantitative/robustness semantics"
   ]
  },
  {
   "cell_type": "markdown",
   "metadata": {},
   "source": [
    "For more details, refer to the [RTAMT GitHub repository](https://github.com/nickovic/rtamt).\n"
   ]
  },
  {
   "cell_type": "markdown",
   "metadata": {},
   "source": [
    "## Exercises\n",
    "\n",
    "### 1: Quantitative v.s. Boolean Semantics\n",
    "\n",
    "Can you convert the output from `spec.evaluate()` into boolean verdicts? (i.e. an array of form `[[float, bool]]`)\n",
    "\n",
    "Compare this to the quntitative results. Which gives you the most information?\n",
    "\n",
    "### 2: Streaming input\n",
    "\n",
    "RTAMT also has an online monitoring algorithm, which receives streams incrementally.\n",
    "\n",
    "To use this create the spec with the `rtamt.StlDenseTimeOnlineSpecification()` method and provide each value with the method `spec.update` method, which takes a list of stream values, and returns a single robustness value.\n",
    "\n",
    "Try running the following supecification:"
   ]
  },
  {
   "cell_type": "code",
   "execution_count": null,
   "metadata": {},
   "outputs": [],
   "source": [
    "import sys\n",
    "import rtamt\n",
    "\n",
    "def monitor():\n",
    "    a1 = [(0, 3), (3, 2)]\n",
    "    b1 = [(0, 2), (2, 5), (4, 1), (7, -7)]\n",
    "\n",
    "    a2 = [(5, 6), (6, -2), (8, 7), (11, -1)]\n",
    "    b2 = [(10, 4)]\n",
    "\n",
    "    a3 = [(13, -6), (15, 0)]\n",
    "    b3 = [(15, 0)]\n",
    "\n",
    "    # # stl\n",
    "    spec = rtamt.StlDenseTimeSpecification()\n",
    "    spec.name = 'STL dense-time specification'\n",
    "    spec.declare_var('a', 'float')\n",
    "    spec.spec = 'a>=2'\n",
    "    try:\n",
    "        spec.parse()\n",
    "    except rtamt.RTAMTException as err:\n",
    "        print('RTAMT Exception: {}'.format(err))\n",
    "        sys.exit()\n",
    "\n",
    "    rob = spec.update(['a', a1], ['b', b1])\n",
    "    print('rob: ' + str(rob))\n",
    "\n",
    "    rob = spec.update(['a', a2], ['b', b2])\n",
    "    print('rob: ' + str(rob))\n",
    "\n",
    "    rob = spec.update(['a', a3], ['b', b3])\n",
    "    print('rob: ' + str(rob))\n",
    "\n",
    "if __name__ == '__main__':\n",
    "    monitor()"
   ]
  },
  {
   "cell_type": "markdown",
   "metadata": {},
   "source": [
    "\n",
    "#### 2.1: Streams of inputs\n",
    "\n",
    "How does the `update` method allow monitors to handle progressively arriving data?\n",
    "\n",
    "Think about how you could use this to monitor data received from a network or a time-series database?"
   ]
  },
  {
   "cell_type": "markdown",
   "metadata": {},
   "source": [
    "\n",
    "### 3: More info\n",
    "\n",
    "Have a look at the description of the tool in https://link.springer.com/article/10.1007/s10009-023-00720-3 and the [RTAMT GitHub repository](https://github.com/nickovic/rtamt).\n",
    "\n",
    "What other types of useful monitors can you write in RTAMT?"
   ]
  }
 ],
 "metadata": {
  "kernelspec": {
   "display_name": "dtcourse",
   "language": "python",
   "name": "python3"
  },
  "language_info": {
   "codemirror_mode": {
    "name": "ipython",
    "version": 3
   },
   "file_extension": ".py",
   "mimetype": "text/x-python",
   "name": "python",
   "nbconvert_exporter": "python",
   "pygments_lexer": "ipython3",
   "version": "3.12.3"
  }
 },
 "nbformat": 4,
 "nbformat_minor": 4
}
